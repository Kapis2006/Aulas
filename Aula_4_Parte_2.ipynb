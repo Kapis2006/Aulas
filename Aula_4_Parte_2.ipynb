{
  "nbformat": 4,
  "nbformat_minor": 0,
  "metadata": {
    "colab": {
      "provenance": [],
      "authorship_tag": "ABX9TyP4dXKUgqMQAUay/AoW2M0O",
      "include_colab_link": true
    },
    "kernelspec": {
      "name": "python3",
      "display_name": "Python 3"
    },
    "language_info": {
      "name": "python"
    }
  },
  "cells": [
    {
      "cell_type": "markdown",
      "metadata": {
        "id": "view-in-github",
        "colab_type": "text"
      },
      "source": [
        "<a href=\"https://colab.research.google.com/github/Kapis2006/Aulas/blob/main/Aula_4_Parte_2.ipynb\" target=\"_parent\"><img src=\"https://colab.research.google.com/assets/colab-badge.svg\" alt=\"Open In Colab\"/></a>"
      ]
    },
    {
      "cell_type": "markdown",
      "source": [
        "**Range**"
      ],
      "metadata": {
        "id": "uENU_qzbxlYp"
      }
    },
    {
      "cell_type": "code",
      "execution_count": 2,
      "metadata": {
        "colab": {
          "base_uri": "https://localhost:8080/"
        },
        "id": "rnlb9PQ1xjvR",
        "outputId": "7dd3e1ea-8a0b-4c3d-9f7a-3640bef0d35a"
      },
      "outputs": [
        {
          "output_type": "execute_result",
          "data": {
            "text/plain": [
              "range(0, 10)"
            ]
          },
          "metadata": {},
          "execution_count": 2
        }
      ],
      "source": [
        "range(0,10,1) #tipo gerador"
      ]
    },
    {
      "cell_type": "code",
      "source": [
        "list(range(0,11,1)) #usando o método lista para criar uma lista de valores"
      ],
      "metadata": {
        "colab": {
          "base_uri": "https://localhost:8080/"
        },
        "id": "x5OSsn49x3Z7",
        "outputId": "eab895bc-03ce-46c6-de51-753d2c2331ac"
      },
      "execution_count": 13,
      "outputs": [
        {
          "output_type": "execute_result",
          "data": {
            "text/plain": [
              "[0, 1, 2, 3, 4, 5, 6, 7, 8, 9, 10]"
            ]
          },
          "metadata": {},
          "execution_count": 13
        }
      ]
    },
    {
      "cell_type": "code",
      "source": [
        "list(range(0,11,2))"
      ],
      "metadata": {
        "colab": {
          "base_uri": "https://localhost:8080/"
        },
        "id": "uJuOv0N1ypTG",
        "outputId": "37c62c77-33a3-46ff-8f65-da6684203a4e"
      },
      "execution_count": 14,
      "outputs": [
        {
          "output_type": "execute_result",
          "data": {
            "text/plain": [
              "[0, 2, 4, 6, 8, 10]"
            ]
          },
          "metadata": {},
          "execution_count": 14
        }
      ]
    },
    {
      "cell_type": "markdown",
      "source": [
        "**FOR**"
      ],
      "metadata": {
        "id": "-M_JgDVhywOf"
      }
    },
    {
      "cell_type": "code",
      "source": [
        "for i in range(10):\n",
        "  print('Está na posição: {}'.format(i))"
      ],
      "metadata": {
        "colab": {
          "base_uri": "https://localhost:8080/"
        },
        "id": "sEtkXLmtyzYF",
        "outputId": "fd4282f8-4fb0-4b3c-b9cb-885ee23a08a7"
      },
      "execution_count": 17,
      "outputs": [
        {
          "output_type": "stream",
          "name": "stdout",
          "text": [
            "Está na posição: 0\n",
            "Está na posição: 1\n",
            "Está na posição: 2\n",
            "Está na posição: 3\n",
            "Está na posição: 4\n",
            "Está na posição: 5\n",
            "Está na posição: 6\n",
            "Está na posição: 7\n",
            "Está na posição: 8\n",
            "Está na posição: 9\n"
          ]
        }
      ]
    },
    {
      "cell_type": "code",
      "source": [
        "for i in 'STRING':\n",
        "  print('Está na posição: {}'.format(i))"
      ],
      "metadata": {
        "colab": {
          "base_uri": "https://localhost:8080/"
        },
        "id": "1XHnkcNs0fDC",
        "outputId": "025dcb4a-0133-4adb-ee76-b6135e74c53d"
      },
      "execution_count": 18,
      "outputs": [
        {
          "output_type": "stream",
          "name": "stdout",
          "text": [
            "Está na posição: S\n",
            "Está na posição: T\n",
            "Está na posição: R\n",
            "Está na posição: I\n",
            "Está na posição: N\n",
            "Está na posição: G\n"
          ]
        }
      ]
    },
    {
      "cell_type": "code",
      "source": [
        "for i in range(len('STRING')):\n",
        "  print('Está na posição: {}'.format(i))"
      ],
      "metadata": {
        "colab": {
          "base_uri": "https://localhost:8080/"
        },
        "id": "kK6yfHr600VZ",
        "outputId": "4607a9bb-75ea-459f-cd99-52839595e03d"
      },
      "execution_count": 19,
      "outputs": [
        {
          "output_type": "stream",
          "name": "stdout",
          "text": [
            "Está na posição: 0\n",
            "Está na posição: 1\n",
            "Está na posição: 2\n",
            "Está na posição: 3\n",
            "Está na posição: 4\n",
            "Está na posição: 5\n"
          ]
        }
      ]
    },
    {
      "cell_type": "code",
      "source": [
        "m = [1,2,3]\n",
        "l = [m,1,2,3]\n",
        "\n",
        "for i in l:\n",
        "  print('Você está na posição: {}'.format(i))"
      ],
      "metadata": {
        "colab": {
          "base_uri": "https://localhost:8080/"
        },
        "id": "rwUMlmzF1tld",
        "outputId": "b68c4b8f-81f3-4e13-a566-57647172b208"
      },
      "execution_count": 20,
      "outputs": [
        {
          "output_type": "stream",
          "name": "stdout",
          "text": [
            "Você está na posição: [1, 2, 3]\n",
            "Você está na posição: 1\n",
            "Você está na posição: 2\n",
            "Você está na posição: 3\n"
          ]
        }
      ]
    },
    {
      "cell_type": "code",
      "source": [
        "for i in range(1,9):\n",
        "  v = int(input('Digite um valor: '))\n",
        "  if v % 2 == 0:\n",
        "    print('{} é par!'.format(v))\n",
        "  else:\n",
        "    print('{} é impar!'.format(v))"
      ],
      "metadata": {
        "id": "UuxDTjdx2KlD"
      },
      "execution_count": null,
      "outputs": []
    },
    {
      "cell_type": "markdown",
      "source": [
        "**WHILE**"
      ],
      "metadata": {
        "id": "Y7zh4Kbv4Bo9"
      }
    },
    {
      "cell_type": "code",
      "source": [
        "x = 0\n",
        "while x <= 10:\n",
        "  print('O valor de x é: {}'.format(x))\n",
        "  #x = x + 1\n",
        "  x += 1"
      ],
      "metadata": {
        "colab": {
          "base_uri": "https://localhost:8080/"
        },
        "id": "a2AJKC244E1d",
        "outputId": "ba55b72c-cceb-411b-b5d1-8064ab72e221"
      },
      "execution_count": 36,
      "outputs": [
        {
          "output_type": "stream",
          "name": "stdout",
          "text": [
            "O valor de x é: 0\n",
            "O valor de x é: 1\n",
            "O valor de x é: 2\n",
            "O valor de x é: 3\n",
            "O valor de x é: 4\n",
            "O valor de x é: 5\n",
            "O valor de x é: 6\n",
            "O valor de x é: 7\n",
            "O valor de x é: 8\n",
            "O valor de x é: 9\n",
            "O valor de x é: 10\n"
          ]
        }
      ]
    },
    {
      "cell_type": "code",
      "source": [
        "x = 0\n",
        "while x <= 10:\n",
        "  print('O valor de x é: {}'.format(x))\n",
        "  #x = x + 1\n",
        "  x += 1\n",
        "  continue\n",
        "  print('X ainda é menor que 10, incrementando...')\n",
        "else:\n",
        "  print('Concluíndo')"
      ],
      "metadata": {
        "colab": {
          "base_uri": "https://localhost:8080/"
        },
        "id": "uAjdrm7G52GO",
        "outputId": "e3030d55-4145-4941-bb95-3300f2fa7fea"
      },
      "execution_count": 40,
      "outputs": [
        {
          "output_type": "stream",
          "name": "stdout",
          "text": [
            "O valor de x é: 0\n",
            "O valor de x é: 1\n",
            "O valor de x é: 2\n",
            "O valor de x é: 3\n",
            "O valor de x é: 4\n",
            "O valor de x é: 5\n",
            "O valor de x é: 6\n",
            "O valor de x é: 7\n",
            "O valor de x é: 8\n",
            "O valor de x é: 9\n",
            "O valor de x é: 10\n",
            "Concluíndo\n"
          ]
        }
      ]
    },
    {
      "cell_type": "code",
      "source": [
        "x = 0\n",
        "while x <= 10:\n",
        "  print('O valor de x é: {}'.format(x))\n",
        "  #x = x + 1\n",
        "  x += 1\n",
        "  break\n",
        "  print('X ainda é menor que 10, incrementando...')\n",
        "else:\n",
        "  print('Concluíndo')"
      ],
      "metadata": {
        "colab": {
          "base_uri": "https://localhost:8080/"
        },
        "id": "NZoZV75N72Fq",
        "outputId": "d9930192-46c0-47e3-a669-f9e79774deee"
      },
      "execution_count": 43,
      "outputs": [
        {
          "output_type": "stream",
          "name": "stdout",
          "text": [
            "O valor de x é: 0\n"
          ]
        }
      ]
    },
    {
      "cell_type": "code",
      "source": [
        "#MENU\n",
        "while True:\n",
        "  c = input('Digite 0 para parar | Digite 1 para continuar: ')\n",
        "  if c =='0':\n",
        "    print('fechando...')\n",
        "    break\n",
        "  elif c == '1:\n",
        "    print('Repetindo...')\n",
        "\n",
        "  else:\n",
        "    print('Você não digitou um valor incorreto!')"
      ],
      "metadata": {
        "id": "6eDG2MFk99oI"
      },
      "execution_count": null,
      "outputs": []
    },
    {
      "cell_type": "code",
      "source": [
        "lista = ['VISUALIZAR','CURTIR','SALVAR','SAIR']\n",
        "\n",
        "for i, v in enumerate(lista):\n",
        "  print('[{}] - {}'.format(i,v))"
      ],
      "metadata": {
        "colab": {
          "base_uri": "https://localhost:8080/"
        },
        "id": "kEEd-5ueAaN5",
        "outputId": "5f45a12c-7ab6-408d-9991-91463fafd826"
      },
      "execution_count": 51,
      "outputs": [
        {
          "output_type": "stream",
          "name": "stdout",
          "text": [
            "[0] - VISUALIZAR\n",
            "[1] - CURTIR\n",
            "[2] - SALVAR\n",
            "[3] - SAIR\n"
          ]
        }
      ]
    }
  ]
}