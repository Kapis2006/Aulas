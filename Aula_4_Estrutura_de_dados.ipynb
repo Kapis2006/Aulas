{
  "nbformat": 4,
  "nbformat_minor": 0,
  "metadata": {
    "colab": {
      "provenance": [],
      "authorship_tag": "ABX9TyNkE/fxngYvdw4eie1yq3Y2",
      "include_colab_link": true
    },
    "kernelspec": {
      "name": "python3",
      "display_name": "Python 3"
    },
    "language_info": {
      "name": "python"
    }
  },
  "cells": [
    {
      "cell_type": "markdown",
      "metadata": {
        "id": "view-in-github",
        "colab_type": "text"
      },
      "source": [
        "<a href=\"https://colab.research.google.com/github/Kapis2006/Aulas/blob/main/Aula_4_Estrutura_de_dados.ipynb\" target=\"_parent\"><img src=\"https://colab.research.google.com/assets/colab-badge.svg\" alt=\"Open In Colab\"/></a>"
      ]
    },
    {
      "cell_type": "markdown",
      "source": [
        "**Aula 4**"
      ],
      "metadata": {
        "id": "gRGy9q6cQsat"
      }
    },
    {
      "cell_type": "code",
      "execution_count": 85,
      "metadata": {
        "colab": {
          "base_uri": "https://localhost:8080/"
        },
        "id": "JI_DCTj0PupN",
        "outputId": "5a91a74a-4797-4d2e-850b-71797c28f964"
      },
      "outputs": [
        {
          "output_type": "stream",
          "name": "stdout",
          "text": [
            "<class 'list'> [1, '2', 3]\n"
          ]
        }
      ],
      "source": [
        "#declarando a lista vazia em Python - LISTA 1\n",
        "lista1 = []\n",
        "\n",
        "lista1 = [1,'2',3] #criando uma lista\n",
        "print(type(lista1),lista1)"
      ]
    },
    {
      "cell_type": "code",
      "source": [
        "#Declaração explícita da lista - LISTA 2\n",
        "lista2 = list((1,'2',3))\n",
        "print(lista2)"
      ],
      "metadata": {
        "colab": {
          "base_uri": "https://localhost:8080/"
        },
        "id": "mK494T-4Sm08",
        "outputId": "1d55317f-73d2-4abd-fde9-16534b55ed0b"
      },
      "execution_count": 65,
      "outputs": [
        {
          "output_type": "stream",
          "name": "stdout",
          "text": [
            "[1, '2', 3]\n"
          ]
        }
      ]
    },
    {
      "cell_type": "code",
      "source": [
        "#Declaraçao implícita - LISTA 3\n",
        "b = input('Digite um valor: ')\n",
        "lista3 = ['C', 4.56, True, 'True', 'Vamos aprender', ['outra','lista','interna'], lista2,b]\n",
        "print(lista3)"
      ],
      "metadata": {
        "colab": {
          "base_uri": "https://localhost:8080/"
        },
        "id": "myhQP4axS15p",
        "outputId": "65edd46a-efa6-4e95-d29d-7e5952938aa3"
      },
      "execution_count": 66,
      "outputs": [
        {
          "output_type": "stream",
          "name": "stdout",
          "text": [
            "Digite um valor: 4\n",
            "['C', 4.56, True, 'True', 'Vamos aprender', ['outra', 'lista', 'interna'], [1, '2', 3], '4']\n"
          ]
        }
      ]
    },
    {
      "cell_type": "code",
      "source": [
        "#LISTA 4\n",
        "lista4 = ['primeiro','segundo','terceiro']\n",
        "print(lista4)"
      ],
      "metadata": {
        "colab": {
          "base_uri": "https://localhost:8080/"
        },
        "id": "gfgwy-4zUJgc",
        "outputId": "703df928-aab3-4359-cc19-360a7c7a9b93"
      },
      "execution_count": 67,
      "outputs": [
        {
          "output_type": "stream",
          "name": "stdout",
          "text": [
            "['primeiro', 'segundo', 'terceiro']\n"
          ]
        }
      ]
    },
    {
      "cell_type": "code",
      "source": [
        "#acessando um elemento dentro da lista - LISTA 3(2)\n",
        "print(lista3)\n",
        "print(lista3[5][0][4]) #ACESSANDO A LISTA DENTRO DA LISTA"
      ],
      "metadata": {
        "colab": {
          "base_uri": "https://localhost:8080/"
        },
        "id": "JxiW6gNqUwLr",
        "outputId": "5911869b-c238-405c-f3a5-a98646650d6b"
      },
      "execution_count": 68,
      "outputs": [
        {
          "output_type": "stream",
          "name": "stdout",
          "text": [
            "['C', 4.56, True, 'True', 'Vamos aprender', ['outra', 'lista', 'interna'], [1, '2', 3], '4']\n",
            "a\n"
          ]
        }
      ]
    },
    {
      "cell_type": "code",
      "source": [
        "#fatiando listas - LISTA 3(fatiamento)\n",
        "#nomeDaLista[start:stop:step]\n",
        "print(lista3)\n",
        "#print(lista3[2:6:2])\n",
        "#print(lista3[:3])\n",
        "#print(lista3[1:])\n",
        "#print(lista3[-1:])\n",
        "print('Imprimindo de dois em dois: ',lista3[::2])\n",
        "#print(lista3[: : ])\n",
        "#print(lista3)\n",
        "print(len(lista3[5][2]))"
      ],
      "metadata": {
        "colab": {
          "base_uri": "https://localhost:8080/"
        },
        "id": "72Wr3qKKWEwp",
        "outputId": "974595fb-3d31-4e4f-81c9-f6e8ae1d94a5"
      },
      "execution_count": 69,
      "outputs": [
        {
          "output_type": "stream",
          "name": "stdout",
          "text": [
            "['C', 4.56, True, 'True', 'Vamos aprender', ['outra', 'lista', 'interna'], [1, '2', 3], '4']\n",
            "Imprimindo de dois em dois:  ['C', True, 'Vamos aprender', [1, '2', 3]]\n",
            "7\n"
          ]
        }
      ]
    },
    {
      "cell_type": "code",
      "source": [
        "#Adicionar elementos - LISTA 1\n",
        "print(lista1)\n",
        "\n",
        "#Adicionando elementos em uma lista\n",
        "lista1.append('Python')\n",
        "lista1.append('Java')\n",
        "lista1.append('Php')\n",
        "lista1.append('C#')\n",
        "\n",
        "print(lista1)"
      ],
      "metadata": {
        "colab": {
          "base_uri": "https://localhost:8080/"
        },
        "id": "Kvl6O1HobeUe",
        "outputId": "ededb2fa-39be-43af-9ef7-2b1a42553f5b"
      },
      "execution_count": 70,
      "outputs": [
        {
          "output_type": "stream",
          "name": "stdout",
          "text": [
            "[1, '2', 3]\n",
            "[1, '2', 3, 'Python', 'Java', 'Php', 'C#']\n"
          ]
        }
      ]
    },
    {
      "cell_type": "code",
      "source": [
        "#Inserir elementos em uma posição específica\n",
        "lista1.insert(2, 'C++')\n",
        "print(lista1)"
      ],
      "metadata": {
        "colab": {
          "base_uri": "https://localhost:8080/"
        },
        "id": "kiKY2U3UbhWF",
        "outputId": "5a4880aa-68aa-4c74-f5af-65f9c5ed1b63"
      },
      "execution_count": 71,
      "outputs": [
        {
          "output_type": "stream",
          "name": "stdout",
          "text": [
            "[1, '2', 'C++', 3, 'Python', 'Java', 'Php', 'C#']\n"
          ]
        }
      ]
    },
    {
      "cell_type": "code",
      "source": [
        "#Remover elemento pelo seu valor\n",
        "#lista1.remove('Python')\n",
        "lista1.remove('Java')\n",
        "#lista1.remove('Php')\n",
        "#lista1.remove('C#')\n",
        "#lista1.remove('C++')\n",
        "\n",
        "print(lista1)"
      ],
      "metadata": {
        "colab": {
          "base_uri": "https://localhost:8080/"
        },
        "id": "ICd2EcPvcKqj",
        "outputId": "3ab062d2-8835-47e7-9274-3c8120ed2c36"
      },
      "execution_count": 73,
      "outputs": [
        {
          "output_type": "stream",
          "name": "stdout",
          "text": [
            "[1, '2', 'C++', 3, 'Python', 'Php', 'C#']\n"
          ]
        }
      ]
    },
    {
      "cell_type": "code",
      "source": [
        "#Indexação (Pegar um índice de um elemento pelo valor)\n",
        "indice = lista1.index('Php')\n",
        "print(indice)"
      ],
      "metadata": {
        "colab": {
          "base_uri": "https://localhost:8080/"
        },
        "id": "vRlaDsTIdSH4",
        "outputId": "5d8e5330-ab95-4c10-b716-f12591beb4af"
      },
      "execution_count": 74,
      "outputs": [
        {
          "output_type": "stream",
          "name": "stdout",
          "text": [
            "5\n"
          ]
        }
      ]
    },
    {
      "cell_type": "code",
      "source": [
        "#Remover um elemento pelo seu indice\n",
        "del(lista1[indice])\n",
        "print(lista1)"
      ],
      "metadata": {
        "colab": {
          "base_uri": "https://localhost:8080/"
        },
        "id": "ULXL6nF2ko0e",
        "outputId": "dba4c756-9c5d-4aa0-f577-31cf722ba1ab"
      },
      "execution_count": 75,
      "outputs": [
        {
          "output_type": "stream",
          "name": "stdout",
          "text": [
            "[1, '2', 'C++', 3, 'Python', 'C#']\n"
          ]
        }
      ]
    },
    {
      "cell_type": "code",
      "source": [
        "print('Lista original: ',lista4)\n",
        "\n",
        "#Invertendo a lista\n",
        "print('Lista invertida: ',lista4)\n",
        "\n",
        "#Ordenando a lista\n"
      ],
      "metadata": {
        "colab": {
          "base_uri": "https://localhost:8080/"
        },
        "id": "Xn8JomKzk7u8",
        "outputId": "3c793661-d266-4dad-f0bb-776c89c4790d"
      },
      "execution_count": 77,
      "outputs": [
        {
          "output_type": "stream",
          "name": "stdout",
          "text": [
            "Lista original:  ['primeiro', 'segundo', 'terceiro']\n",
            "Lista invertida:  ['primeiro', 'segundo', 'terceiro']\n"
          ]
        }
      ]
    },
    {
      "cell_type": "code",
      "source": [
        "#comprimento de uma lista\n",
        "print(lista1, len(lista1), ' elemento(s)')\n",
        "print(lista2, len(lista2), ' elemento(s)')\n",
        "print(lista3, len(lista3), ' elemento(s)')\n",
        "print(lista4, len(lista4), ' elemento(s)')"
      ],
      "metadata": {
        "colab": {
          "base_uri": "https://localhost:8080/"
        },
        "id": "fJeqvgltlY_C",
        "outputId": "65692ca5-a88b-48bd-9216-2dfcf05ada88"
      },
      "execution_count": 79,
      "outputs": [
        {
          "output_type": "stream",
          "name": "stdout",
          "text": [
            "[1, '2', 'C++', 3, 'Python', 'C#'] 6  elemento(s)\n",
            "[1, '2', 3] 3  elemento(s)\n",
            "['C', 4.56, True, 'True', 'Vamos aprender', ['outra', 'lista', 'interna'], [1, '2', 3], '4'] 8  elemento(s)\n",
            "['primeiro', 'segundo', 'terceiro'] 3  elemento(s)\n"
          ]
        }
      ]
    },
    {
      "cell_type": "code",
      "source": [
        "#Será que é assim que copia?\n",
        "L = [6,7,5,8,9]\n",
        "V=L\n",
        "print(V)\n",
        "print(L)"
      ],
      "metadata": {
        "colab": {
          "base_uri": "https://localhost:8080/"
        },
        "id": "z-K4Kvs4mLOV",
        "outputId": "66934f4d-f0d5-47d1-e70b-97301b6dde22"
      },
      "execution_count": 80,
      "outputs": [
        {
          "output_type": "stream",
          "name": "stdout",
          "text": [
            "[6, 7, 5, 8, 9]\n",
            "[6, 7, 5, 8, 9]\n"
          ]
        }
      ]
    },
    {
      "cell_type": "code",
      "source": [
        "#Testando se de fato é uma copia\n",
        "V[0]=-100\n",
        "print(V)\n",
        "print(L)"
      ],
      "metadata": {
        "colab": {
          "base_uri": "https://localhost:8080/"
        },
        "id": "7CqBkO_dmfQa",
        "outputId": "53f3ba23-b648-4220-8354-30d0aad4cf6a"
      },
      "execution_count": 83,
      "outputs": [
        {
          "output_type": "stream",
          "name": "stdout",
          "text": [
            "[-100, 7, 5, 8, 9]\n",
            "[-100, 7, 5, 8, 9]\n"
          ]
        }
      ]
    },
    {
      "cell_type": "code",
      "source": [
        "#Forma correta de copiar listas\n",
        "L=[6,7,5,8,9]\n",
        "V=L[:]\n",
        "Z=list(L)\n",
        "print(L, V, Z)"
      ],
      "metadata": {
        "colab": {
          "base_uri": "https://localhost:8080/"
        },
        "id": "ajIqDLm4m63M",
        "outputId": "00769189-83bf-45e8-9c41-dbde31208e41"
      },
      "execution_count": 84,
      "outputs": [
        {
          "output_type": "stream",
          "name": "stdout",
          "text": [
            "[6, 7, 5, 8, 9] [6, 7, 5, 8, 9] [6, 7, 5, 8, 9]\n"
          ]
        }
      ]
    },
    {
      "cell_type": "code",
      "source": [
        "V[0]=-100\n",
        "Z[0]=-8\n",
        "print(L,V,Z)"
      ],
      "metadata": {
        "colab": {
          "base_uri": "https://localhost:8080/"
        },
        "id": "f3ZPYp_hnigt",
        "outputId": "aa45dbd9-b855-4878-f3da-176dc824ea66"
      },
      "execution_count": 87,
      "outputs": [
        {
          "output_type": "stream",
          "name": "stdout",
          "text": [
            "[6, 7, 5, 8, 9] [-100, 7, 5, 8, 9] [-8, 7, 5, 8, 9]\n"
          ]
        }
      ]
    },
    {
      "cell_type": "markdown",
      "source": [
        "**TUPLAS:**"
      ],
      "metadata": {
        "id": "n8z9H8tYr0Nu"
      }
    },
    {
      "cell_type": "code",
      "source": [
        "#Declarando tuplas\n",
        "tupla1 = (30,30, 'outubro', 1989)\n",
        "print(type(tupla1))\n",
        "\n",
        "tupla2 = 30,1\n",
        "print(type(tupla2))\n",
        "\n",
        "tupla3 = 1,\n",
        "print(type(tupla3))\n"
      ],
      "metadata": {
        "id": "3Buh8nHIsZUw"
      },
      "execution_count": null,
      "outputs": []
    },
    {
      "cell_type": "code",
      "source": [
        "#Contando números repetidos\n",
        "print(tupla1.count(30))"
      ],
      "metadata": {
        "id": "58KPcpiFuHXX"
      },
      "execution_count": null,
      "outputs": []
    },
    {
      "cell_type": "code",
      "source": [
        "tupla1 = (30,30, 'outubro', 1989)\n",
        "\n",
        "if tupla1.count(30) == 2:\n",
        "  print('Deu certo')\n",
        "else:\n",
        "  print('Não deu certo')\n",
        "\n",
        "  #outro teste\n",
        "tupla_teste = ('sa','ba','do')\n",
        "len(tupla_teste[0])\n",
        "\n",
        "if len(tupla_teste) == 3:\n",
        "  print('ok')\n",
        "else:\n",
        "  print('falhou')"
      ],
      "metadata": {
        "colab": {
          "base_uri": "https://localhost:8080/"
        },
        "id": "j07wJ1nHut77",
        "outputId": "4df020dd-b1ea-4502-b56c-f8521fba052c"
      },
      "execution_count": 104,
      "outputs": [
        {
          "output_type": "stream",
          "name": "stdout",
          "text": [
            "Deu certo\n",
            "ok\n"
          ]
        }
      ]
    },
    {
      "cell_type": "code",
      "source": [
        "#Acessando ????????\n",
        "print()\n",
        "print()\n",
        "print()"
      ],
      "metadata": {
        "id": "H3_234wUv7XO"
      },
      "execution_count": null,
      "outputs": []
    }
  ]
}