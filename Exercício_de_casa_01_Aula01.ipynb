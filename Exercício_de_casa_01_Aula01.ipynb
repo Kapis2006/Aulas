{
  "nbformat": 4,
  "nbformat_minor": 0,
  "metadata": {
    "colab": {
      "provenance": [],
      "authorship_tag": "ABX9TyOwiBAeFBhDDVPx9Bx8W1aH",
      "include_colab_link": true
    },
    "kernelspec": {
      "name": "python3",
      "display_name": "Python 3"
    },
    "language_info": {
      "name": "python"
    }
  },
  "cells": [
    {
      "cell_type": "markdown",
      "metadata": {
        "id": "view-in-github",
        "colab_type": "text"
      },
      "source": [
        "<a href=\"https://colab.research.google.com/github/Kapis2006/Aulas/blob/main/Exerc%C3%ADcio_de_casa_01_Aula01.ipynb\" target=\"_parent\"><img src=\"https://colab.research.google.com/assets/colab-badge.svg\" alt=\"Open In Colab\"/></a>"
      ]
    },
    {
      "cell_type": "code",
      "execution_count": 35,
      "metadata": {
        "colab": {
          "base_uri": "https://localhost:8080/"
        },
        "id": "Ll-TYggrbNVY",
        "outputId": "e5d31bed-185c-423f-8b65-6ffb377604d2"
      },
      "outputs": [
        {
          "output_type": "stream",
          "name": "stdout",
          "text": [
            "Qual o nome do hotel? *Ibis*\n",
            "Quantas estrelas tem? 5\n",
            "Fica em que cidade? Recife\n",
            "**********************\n",
            "**********************\n",
            "*********Ibis*********\n",
            "*****5 estrela(s)*****\n",
            "********Recife********\n",
            "**********************\n",
            "**********************\n"
          ]
        }
      ],
      "source": [
        "nomeDoHotel = input(\"Qual o nome do hotel? \")\n",
        "estrelas = input(\"Quantas estrelas tem? \")\n",
        "cidade = (input(\"Fica em que cidade? \"))\n",
        "print('**********************')\n",
        "print('**********************')\n",
        "print(\"********{}********\".format(nomeDoHotel))\n",
        "print(\"*****{} estrela(s)*****\".format(estrelas))\n",
        "print(\"********{}********\".format(cidade))\n",
        "print('**********************')\n",
        "print('**********************')"
      ]
    }
  ]
}